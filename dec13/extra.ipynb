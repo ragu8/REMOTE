{
 "cells": [
  {
   "cell_type": "markdown",
   "metadata": {
    "id": "j6331ZSsQGY3"
   },
   "source": [
    "#  CONVOLUTIONAL NEURAL NETWORK"
   ]
  },
  {
   "cell_type": "code",
   "execution_count": 1,
   "metadata": {},
   "outputs": [],
   "source": [
    "import os          \n",
    "import cv2                                 \n",
    "from tqdm import tqdm\n",
    "\n",
    "def load_data(dataset):\n",
    "    class_names = []\n",
    "    images = []\n",
    "    labels = []  \n",
    "    for folder in os.listdir(dataset):\n",
    "        class_names.append(folder)    \n",
    "    class_names_label = {class_name:i for i, class_name in enumerate(class_names)} \n",
    "    print(\"Loading Dataset {}\".format(dataset))\n",
    "    for folder in os.listdir(dataset):\n",
    "        label = class_names_label[folder]\n",
    "        for file in tqdm(os.listdir(os.path.join(dataset, folder))):\n",
    "            img_path = os.path.join(os.path.join(dataset, folder), file)\n",
    "            image = cv2.imread(img_path)\n",
    "            image = cv2.cvtColor(image, cv2.COLOR_BGR2RGB)\n",
    "            IMAGE_SIZE = (150, 150)\n",
    "            image = cv2.resize(image, IMAGE_SIZE)\n",
    "            image = cv2.rotate(image, cv2.ROTATE_90_CLOCKWISE)\n",
    "            file_name = f\"C:/Users/Karnan/Downloads/dataset/leaves/{folder}/{file}_ROTATE_90_CLOCKWISE.jpg\"\n",
    "            cv2.imwrite(file_name,image)"
   ]
  },
  {
   "cell_type": "code",
   "execution_count": null,
   "metadata": {},
   "outputs": [],
   "source": []
  }
 ],
 "metadata": {
  "accelerator": "GPU",
  "colab": {
   "collapsed_sections": [
    "7qtuISP_NTmz",
    "u2lkonWDKa95",
    "pDUdGxn-ojgy",
    "2Q0O7ABi-eYs",
    "MeLsgZ7o_aiy",
    "SlJ5NVaPojhT",
    "mWZ24w1Oojhk",
    "u3ABkBznqUOD",
    "knIzawEeojho",
    "_yO5_2o4_K02",
    "SK_GrFQ3APoM",
    "YlvV35KxEZX4",
    "gHr3TxBVTFNa",
    "jbs_8cr_5alB",
    "4cexnB4cm43o",
    "8XC-X3sXW5Kk"
   ],
   "private_outputs": true,
   "provenance": []
  },
  "gpuClass": "standard",
  "kernelspec": {
   "display_name": "Python 3 (ipykernel)",
   "language": "python",
   "name": "python3"
  },
  "language_info": {
   "codemirror_mode": {
    "name": "ipython",
    "version": 3
   },
   "file_extension": ".py",
   "mimetype": "text/x-python",
   "name": "python",
   "nbconvert_exporter": "python",
   "pygments_lexer": "ipython3",
   "version": "3.9.15"
  }
 },
 "nbformat": 4,
 "nbformat_minor": 1
}
